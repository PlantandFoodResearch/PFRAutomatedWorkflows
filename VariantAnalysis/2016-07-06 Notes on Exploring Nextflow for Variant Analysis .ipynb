{
 "cells": [
  {
   "cell_type": "markdown",
   "metadata": {},
   "source": [
    "# Assessing Nextflow for Variant Workflows\n",
    "\n",
    "## John McCallum July 2016"
   ]
  },
  {
   "cell_type": "markdown",
   "metadata": {},
   "source": [
    "Example workflows we could copy\n",
    "----------------------------\n",
    "\n",
    "- https://github.com/charite/ngspipeline/blob/master/ngs.nextflow\n",
    "- http://www.nextflow.io/example4.html\n"
   ]
  },
  {
   "cell_type": "code",
   "execution_count": 2,
   "metadata": {
    "collapsed": false
   },
   "outputs": [
    {
     "name": "stdout",
     "output_type": "stream",
     "text": []
    }
   ],
   "source": [
    "curl -fsSL get.nextflow.io | bash > /dev/null"
   ]
  },
  {
   "cell_type": "code",
   "execution_count": 7,
   "metadata": {
    "collapsed": false
   },
   "outputs": [
    {
     "name": "stdout",
     "output_type": "stream",
     "text": [
      "-rw-rw-r--. 1 cfljam powerplant 36K Jul  6 06:17 ../KiwiTestData/kiwitest.1.R1.fq.gz\r\n",
      "-rw-rw-r--. 1 cfljam powerplant 35K Jul  6 06:17 ../KiwiTestData/kiwitest.1.R2.fq.gz\r\n"
     ]
    }
   ],
   "source": [
    "ls -lh ../KiwiTestData/kiwitest.1.*"
   ]
  },
  {
   "cell_type": "code",
   "execution_count": 13,
   "metadata": {
    "collapsed": false
   },
   "outputs": [
    {
     "name": "stdout",
     "output_type": "stream",
     "text": [
      "2016-07-06 Create Test Data.ipynb  kiwitest.2.R1.fq.gz\tkiwitest.wgsim.out\r\n",
      "kiwitest.1.R1.fq.gz\t\t   kiwitest.2.R2.fq.gz\tReadme.md\r\n",
      "kiwitest.1.R2.fq.gz\t\t   kiwitest2.wgsim.out\r\n",
      "kiwitest1.wgsim.out\t\t   kiwitest.fasta\r\n"
     ]
    }
   ],
   "source": [
    "ls /powerplant/workspace/cfljam/AutomatedWorkflows/KiwiTestData/"
   ]
  },
  {
   "cell_type": "code",
   "execution_count": 2,
   "metadata": {
    "collapsed": false
   },
   "outputs": [
    {
     "name": "stdout",
     "output_type": "stream",
     "text": [
      "N E X T F L O W  ~  version 0.20.1\r\n",
      "Launching ./main.nf\r\n",
      "[warm up] executor > lsf\r\n",
      "[8f/b0805f] Submitted process > buildGenomeIndex (build)\r\n",
      "Error executing process > 'buildGenomeIndex (build)'\r\n",
      "\r\n",
      "Caused by:\r\n",
      "  Missing output file(s): 'PS1_1.68.5*' expected by process: buildGenomeIndex (build)\r\n",
      "\r\n",
      "Command executed:\r\n",
      "\r\n",
      "  bowtie-build PS1_1.68.5.fasta genome_index\r\n",
      "\r\n",
      "Command exit status:\r\n",
      "  0\r\n",
      "\r\n",
      "Command output:\r\n",
      "    90%\r\n",
      "    100%\r\n",
      "    Block accumulator loop time: 00:00:07\r\n",
      "    Sorting block of length 63529493\r\n",
      "    (Using difference cover)\r\n",
      "    Sorting block time: 00:00:55\r\n",
      "  Returning block of 63529494\r\n",
      "  Exited Ebwt loop\r\n",
      "  fchr[A]: 0\r\n",
      "  fchr[C]: 173159783\r\n",
      "  fchr[G]: 267760131\r\n",
      "  fchr[T]: 362322173\r\n",
      "  fchr[$]: 535700055\r\n",
      "  Exiting Ebwt::buildToDisk()\r\n",
      "  Returning from initFromVector\r\n",
      "  Wrote 157576578 bytes to primary EBWT file: genome_index.rev.1.ebwt\r\n",
      "  Wrote 66962512 bytes to secondary EBWT file: genome_index.rev.2.ebwt\r\n",
      "  Re-opening _in1 and _in2 as input streams\r\n",
      "  Returning from Ebwt constructor\r\n",
      "  Headers:\r\n",
      "      len: 535700055\r\n",
      "      bwtLen: 535700056\r\n",
      "      sz: 133925014\r\n",
      "      bwtSz: 133925014\r\n",
      "      lineRate: 6\r\n",
      "      linesPerSide: 1\r\n",
      "      offRate: 5\r\n",
      "      offMask: 0xffffffe0\r\n",
      "      isaRate: -1\r\n",
      "      isaMask: 0xffffffff\r\n",
      "      ftabChars: 10\r\n",
      "      eftabLen: 20\r\n",
      "      eftabSz: 80\r\n",
      "      ftabLen: 1048577\r\n",
      "      ftabSz: 4194308\r\n",
      "      offsLen: 16740627\r\n",
      "      offsSz: 66962508\r\n",
      "      isaLen: 0\r\n",
      "      isaSz: 0\r\n",
      "      lineSz: 64\r\n",
      "      sideSz: 64\r\n",
      "      sideBwtSz: 56\r\n",
      "      sideBwtLen: 224\r\n",
      "      numSidePairs: 1195760\r\n",
      "      numSides: 2391520\r\n",
      "      numLines: 2391520\r\n",
      "      ebwtTotLen: 153057280\r\n",
      "      ebwtTotSz: 153057280\r\n",
      "      reverse: 0\r\n",
      "  Total time for backward call to driver() for mirror index: 00:12:23\r\n",
      "\r\n",
      "Work dir:\r\n",
      "  /home/cfphxd/PFRAutomatedWorkflows/VariantAnalysis/work/8f/b0805fdf6df928777f2d1d323c7c29\r\n",
      "\r\n",
      "Tip: you can try to figure out what's wrong by changing to the process work dir and showing the script file named: '.command.sh'\r\n",
      "\r\n"
     ]
    }
   ],
   "source": [
    "~/.bin/nextflow run ."
   ]
  },
  {
   "cell_type": "code",
   "execution_count": 16,
   "metadata": {
    "collapsed": false
   },
   "outputs": [
    {
     "name": "stdout",
     "output_type": "stream",
     "text": [
      "/workspace/cfljam/AutomatedWorkflows/KiwiTestData/kiwitest.1.R1.fq.gz\r\n",
      "/workspace/cfljam/AutomatedWorkflows/KiwiTestData/kiwitest.1.R2.fq.gz\r\n",
      "/workspace/cfljam/AutomatedWorkflows/KiwiTestData/kiwitest.2.R1.fq.gz\r\n",
      "/workspace/cfljam/AutomatedWorkflows/KiwiTestData/kiwitest.2.R2.fq.gz\r\n"
     ]
    }
   ],
   "source": [
    "DATADIR=/workspace/cfljam/AutomatedWorkflows/KiwiTestData\n",
    "ls $DATADIR/*.gz"
   ]
  }
 ],
 "metadata": {
  "kernelspec": {
   "display_name": "Bash",
   "language": "bash",
   "name": "bash"
  },
  "language_info": {
   "codemirror_mode": "shell",
   "file_extension": ".sh",
   "mimetype": "text/x-sh",
   "name": "bash"
  }
 },
 "nbformat": 4,
 "nbformat_minor": 0
}
