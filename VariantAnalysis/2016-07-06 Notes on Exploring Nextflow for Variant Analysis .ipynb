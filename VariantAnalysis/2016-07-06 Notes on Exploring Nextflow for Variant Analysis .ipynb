{
 "cells": [
  {
   "cell_type": "markdown",
   "metadata": {},
   "source": [
    "# Assessing Nextflow for Variant Workflows\n",
    "\n",
    "## John McCallum July 2016"
   ]
  },
  {
   "cell_type": "markdown",
   "metadata": {},
   "source": [
    "Example workflows we could copy\n",
    "----------------------------\n",
    "\n",
    "- https://github.com/charite/ngspipeline/blob/master/ngs.nextflow\n",
    "- http://www.nextflow.io/example4.html\n"
   ]
  },
  {
   "cell_type": "code",
   "execution_count": 2,
   "metadata": {
    "collapsed": false
   },
   "outputs": [
    {
     "name": "stdout",
     "output_type": "stream",
     "text": []
    }
   ],
   "source": [
    "curl -fsSL get.nextflow.io | bash > /dev/null"
   ]
  },
  {
   "cell_type": "code",
   "execution_count": 7,
   "metadata": {
    "collapsed": false
   },
   "outputs": [
    {
     "name": "stdout",
     "output_type": "stream",
     "text": [
      "-rw-rw-r--. 1 cfljam powerplant 36K Jul  6 06:17 ../KiwiTestData/kiwitest.1.R1.fq.gz\r\n",
      "-rw-rw-r--. 1 cfljam powerplant 35K Jul  6 06:17 ../KiwiTestData/kiwitest.1.R2.fq.gz\r\n"
     ]
    }
   ],
   "source": [
    "ls -lh ../KiwiTestData/kiwitest.1.*"
   ]
  },
  {
   "cell_type": "code",
   "execution_count": 13,
   "metadata": {
    "collapsed": false
   },
   "outputs": [
    {
     "name": "stdout",
     "output_type": "stream",
     "text": [
      "2016-07-06 Create Test Data.ipynb  kiwitest.2.R1.fq.gz\tkiwitest.wgsim.out\r\n",
      "kiwitest.1.R1.fq.gz\t\t   kiwitest.2.R2.fq.gz\tReadme.md\r\n",
      "kiwitest.1.R2.fq.gz\t\t   kiwitest2.wgsim.out\r\n",
      "kiwitest1.wgsim.out\t\t   kiwitest.fasta\r\n"
     ]
    }
   ],
   "source": [
    "ls /powerplant/workspace/cfljam/AutomatedWorkflows/KiwiTestData/"
   ]
  },
  {
   "cell_type": "code",
   "execution_count": 4,
   "metadata": {
    "collapsed": false
   },
   "outputs": [
    {
     "name": "stdout",
     "output_type": "stream",
     "text": [
      "Usage: nextflow [options] COMMAND [arg...]\r\n",
      "\r\n",
      "Options:\r\n",
      "  -C\r\n",
      "     Use the specified configuration file(s) overriding any defaults\r\n",
      "  -D\r\n",
      "     Set JMV properties\r\n",
      "  -bg\r\n",
      "     Execute nextflow in background\r\n",
      "  -c, -config\r\n",
      "     Add the specified file to configuration set\r\n",
      "  -h\r\n",
      "     Print this help\r\n",
      "  -log\r\n",
      "     Set nextflow log file path\r\n",
      "  -q, -quiet\r\n",
      "     Do not print information messages\r\n",
      "  -v, -version\r\n",
      "     Print the program version\r\n",
      "\r\n",
      "Commands:\r\n",
      "  clone         Clone a project into a folder\r\n",
      "  config        Print a project configuration\r\n",
      "  drop          Delete the local copy of a project\r\n",
      "  help          Print the usage help for a command\r\n",
      "  history       Print the executions history\r\n",
      "  info          Print project and system runtime information\r\n",
      "  list          List all downloaded projects\r\n",
      "  pull          Download or update a project\r\n",
      "  run           Execute a pipeline project\r\n",
      "  self-update   Update nextflow runtime to the latest available version\r\n",
      "  view          View project script file(s)\r\n",
      "\r\n"
     ]
    }
   ],
   "source": [
    "./nextflow"
   ]
  },
  {
   "cell_type": "code",
   "execution_count": 16,
   "metadata": {
    "collapsed": false
   },
   "outputs": [
    {
     "name": "stdout",
     "output_type": "stream",
     "text": [
      "/workspace/cfljam/AutomatedWorkflows/KiwiTestData/kiwitest.1.R1.fq.gz\r\n",
      "/workspace/cfljam/AutomatedWorkflows/KiwiTestData/kiwitest.1.R2.fq.gz\r\n",
      "/workspace/cfljam/AutomatedWorkflows/KiwiTestData/kiwitest.2.R1.fq.gz\r\n",
      "/workspace/cfljam/AutomatedWorkflows/KiwiTestData/kiwitest.2.R2.fq.gz\r\n"
     ]
    }
   ],
   "source": [
    "DATADIR=/workspace/cfljam/AutomatedWorkflows/KiwiTestData\n",
    "ls $DATADIR/*.gz"
   ]
  }
 ],
 "metadata": {
  "kernelspec": {
   "display_name": "Bash",
   "language": "bash",
   "name": "bash"
  },
  "language_info": {
   "codemirror_mode": "shell",
   "file_extension": ".sh",
   "mimetype": "text/x-sh",
   "name": "bash"
  }
 },
 "nbformat": 4,
 "nbformat_minor": 0
}
