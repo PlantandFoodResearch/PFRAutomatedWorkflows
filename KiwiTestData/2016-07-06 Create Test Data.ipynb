{
 "cells": [
  {
   "cell_type": "markdown",
   "metadata": {},
   "source": [
    "# Create Test Data for Kiwifruit Genomics Workflows"
   ]
  },
  {
   "cell_type": "markdown",
   "metadata": {},
   "source": [
    "Make some kiwi test data. Use first 1 kb"
   ]
  },
  {
   "cell_type": "code",
   "execution_count": 1,
   "metadata": {
    "collapsed": false
   },
   "outputs": [
    {
     "name": "stdout",
     "output_type": "stream",
     "text": []
    }
   ],
   "source": [
    "module load samtools/1.3.1"
   ]
  },
  {
   "cell_type": "code",
   "execution_count": 2,
   "metadata": {
    "collapsed": false
   },
   "outputs": [
    {
     "name": "stdout",
     "output_type": "stream",
     "text": []
    }
   ],
   "source": [
    "module load bedtools/2.21.0"
   ]
  },
  {
   "cell_type": "code",
   "execution_count": 3,
   "metadata": {
    "collapsed": false
   },
   "outputs": [
    {
     "name": "stdout",
     "output_type": "stream",
     "text": [
      "CHR1\t19474402\t86\t19474402\t19474403\r\n",
      "CHR2\t15865742\t19474575\t15865742\t15865743\r\n",
      "CHR3\t23687156\t35340404\t23687156\t23687157\r\n",
      "CHR4\t12906829\t59027647\t12906829\t12906830\r\n",
      "CHR5\t18272032\t71934563\t18272032\t18272033\r\n",
      "CHR6\t17395956\t90206682\t17395956\t17395957\r\n",
      "CHR7\t20282415\t107602725\t20282415\t20282416\r\n",
      "CHR8\t25307543\t127885227\t25307543\t25307544\r\n",
      "CHR9\t16512530\t153192857\t16512530\t16512531\r\n",
      "CHR10\t19412578\t169705478\t19412578\t19412579\r\n"
     ]
    }
   ],
   "source": [
    "REFFILE=/powerplant/workspace/cfljam/HighHealth/PoolSeq/PS1_reference/PS1_1.68.5.fasta\n",
    "INDEXFILE=/powerplant/workspace/cfljam/HighHealth/PoolSeq/PS1_reference/PS1_1.68.5.fasta.fai\n",
    "head $INDEXFILE"
   ]
  },
  {
   "cell_type": "code",
   "execution_count": 39,
   "metadata": {
    "collapsed": false
   },
   "outputs": [
    {
     "name": "stdout",
     "output_type": "stream",
     "text": [
      "CHR1\t1\t1000\r\n",
      "CHR2\t1\t1000\r\n",
      "CHR3\t1\t1000\r\n",
      "CHR4\t1\t1000\r\n",
      "CHR5\t1\t1000\r\n",
      "CHR6\t1\t1000\r\n",
      "CHR7\t1\t1000\r\n",
      "CHR8\t1\t1000\r\n",
      "CHR9\t1\t1000\r\n",
      "CHR10\t1\t1000\r\n"
     ]
    }
   ],
   "source": [
    "awk -v OFS='\\t' '{print $1,1,1000}' $INDEXFILE | head"
   ]
  },
  {
   "cell_type": "code",
   "execution_count": 32,
   "metadata": {
    "collapsed": false
   },
   "outputs": [
    {
     "name": "stdout",
     "output_type": "stream",
     "text": []
    }
   ],
   "source": [
    "bedtools getfasta -fi ${REFFILE} -bed <(awk -v OFS='\\t' '{print $1,1,1000}' ${INDEXFILE}) -fo ./kiwitest.fasta"
   ]
  },
  {
   "cell_type": "code",
   "execution_count": 30,
   "metadata": {
    "collapsed": false
   },
   "outputs": [
    {
     "name": "stdout",
     "output_type": "stream",
     "text": [
      ">CHR1:1-1000\r\n",
      ">CHR2:1-1000\r\n",
      ">CHR3:1-1000\r\n",
      ">CHR4:1-1000\r\n",
      ">CHR5:1-1000\r\n",
      ">CHR6:1-1000\r\n",
      ">CHR7:1-1000\r\n",
      ">CHR8:1-1000\r\n",
      ">CHR9:1-1000\r\n",
      ">CHR10:1-1000\r\n"
     ]
    }
   ],
   "source": [
    "grep '>' test.fasta | head"
   ]
  },
  {
   "cell_type": "markdown",
   "metadata": {
    "collapsed": false
   },
   "source": [
    "### Simulate Reads with Wgsim for 2 Samples"
   ]
  },
  {
   "cell_type": "code",
   "execution_count": 48,
   "metadata": {
    "collapsed": false
   },
   "outputs": [
    {
     "name": "stdout",
     "output_type": "stream",
     "text": [
      "[wgsim] seed = 1467742659\r\n",
      "[wgsim_core] calculating the total length of the reference sequence...\r\n",
      "[wgsim_core] 30 sequences, total length: 29970\r\n",
      "[wgsim] seed = 1467742659\r\n",
      "[wgsim_core] calculating the total length of the reference sequence...\r\n",
      "[wgsim_core] 30 sequences, total length: 29970\r\n"
     ]
    }
   ],
   "source": [
    "wgsim -N 1000 -1 125 -2 125 -r 0.01 ./kiwitest.fasta kiwitest.1.R1.fq kiwitest.1.R2.fq > kiwitest1.wgsim.out\n",
    "wgsim -N 1000 -1 125 -2 125 -r 0.01 ./kiwitest.fasta kiwitest.2.R1.fq kiwitest.2.R2.fq > kiwitest2.wgsim.out"
   ]
  },
  {
   "cell_type": "markdown",
   "metadata": {},
   "source": [
    "wgsim emits the details of variants it created"
   ]
  },
  {
   "cell_type": "code",
   "execution_count": 49,
   "metadata": {
    "collapsed": false
   },
   "outputs": [
    {
     "name": "stdout",
     "output_type": "stream",
     "text": [
      "CHR1:1-1000\t22\tA\tW\t+\r\n",
      "CHR1:1-1000\t24\tG\tK\t+\r\n",
      "CHR1:1-1000\t25\tC\tM\t+\r\n",
      "CHR1:1-1000\t112\tT\tY\t+\r\n",
      "CHR1:1-1000\t278\tT\tC\t-\r\n",
      "CHR1:1-1000\t307\tA\tR\t+\r\n",
      "CHR1:1-1000\t371\tC\tA\t-\r\n",
      "CHR1:1-1000\t541\tC\tT\t-\r\n",
      "CHR1:1-1000\t611\tA\tW\t+\r\n",
      "CHR1:1-1000\t633\tA\tM\t+\r\n"
     ]
    }
   ],
   "source": [
    "head kiwitest1.wgsim.out"
   ]
  },
  {
   "cell_type": "code",
   "execution_count": 51,
   "metadata": {
    "collapsed": false
   },
   "outputs": [
    {
     "name": "stdout",
     "output_type": "stream",
     "text": []
    }
   ],
   "source": [
    "gzip kiwitest*.fq"
   ]
  },
  {
   "cell_type": "code",
   "execution_count": 55,
   "metadata": {
    "collapsed": false
   },
   "outputs": [
    {
     "name": "stdout",
     "output_type": "stream",
     "text": [
      "total 686K\r\n",
      "-rw-rw-r--. 1 cfljam powerplant 6.6K Jul  6 06:19 2016-07-06 Create Test Data.ipynb\r\n",
      "-rw-rw-r--. 1 cfljam powerplant  36K Jul  6 06:17 kiwitest.1.R1.fq.gz\r\n",
      "-rw-rw-r--. 1 cfljam powerplant  35K Jul  6 06:17 kiwitest.1.R2.fq.gz\r\n",
      "-rw-rw-r--. 1 cfljam powerplant 6.3K Jul  6 06:17 kiwitest1.wgsim.out\r\n",
      "-rw-rw-r--. 1 cfljam powerplant  36K Jul  6 06:17 kiwitest.2.R1.fq.gz\r\n",
      "-rw-rw-r--. 1 cfljam powerplant  35K Jul  6 06:17 kiwitest.2.R2.fq.gz\r\n",
      "-rw-rw-r--. 1 cfljam powerplant 6.3K Jul  6 06:17 kiwitest2.wgsim.out\r\n",
      "-rw-rw-r--. 1 cfljam powerplant  30K Jul  6 06:02 kiwitest.fasta\r\n",
      "-rw-rw-r--. 1 cfljam powerplant 6.3K Jul  6 06:13 kiwitest.wgsim.out\r\n"
     ]
    }
   ],
   "source": [
    "ls -lh"
   ]
  }
 ],
 "metadata": {
  "kernelspec": {
   "display_name": "Bash",
   "language": "bash",
   "name": "bash"
  },
  "language_info": {
   "codemirror_mode": "shell",
   "file_extension": ".sh",
   "mimetype": "text/x-sh",
   "name": "bash"
  }
 },
 "nbformat": 4,
 "nbformat_minor": 0
}
