{
 "cells": [
  {
   "cell_type": "markdown",
   "metadata": {},
   "source": [
    "# Sample data generation\n",
    "\n",
    "Susan Thomson\n",
    "\n",
    "Species: Solanum tuberosum  \n",
    "Scientist: Margaret Carpenter  \n",
    "Experiment Requestor: 10500  \n",
    "Tissue: tuber  \n",
    "Sample type: RNA  \n",
    "Data type: 100 base pair, paired-end  \n",
    "Library type: Stranded mRNA\n",
    "\n",
    "## Reference information\n",
    "\n",
    "#### Reference genome fasta (also contain chr00):  \n",
    "/workspace/ComparativeDataSources/Solanum_tuberosum/Pseudomolecule_V403/PGSC_DM_v4.03_pseudomolecules_ALL.fasta\n",
    "#### Reference annotation file:  \n",
    "/workspace/ComparativeDataSources/Solanum_tuberosum/Pseudomolecule_V403/PGSC_DM_V403_fixed_representative_genes.gtf\n",
    "\n",
    "**Note this is gtf not gff although there is a matching gff file in this directory too, ensure use fixed as the original contains a couple of errors**\n",
    "\n",
    "## Aim\n",
    "\n",
    "Use potato RNAseq data to generate a small set of test data. Use control and hot psyllid replicates extracted from tuber as previous analysis shows these indicate good variation. Although this is a small data set for now and wouldn't be used for testing tools at this stage, they could be used as part of a full set down the track.\n",
    "\n",
    "/input/genomic/plant/Solanum/tuberosum/Transcriptome/CAGRF12386/AGRF_CAGRF12386_C9HBWANXX\n",
    "\n",
    "For now, grab a subset of a lane worth of samples:  \n",
    "\n",
    "|Size|Date|Name|sample|replicate|\n",
    "|---|---|---|---|---|\n",
    "|1.3G |May 18  2016 |8HPT_C9HBWANXX_GATCAG_L002_R1.fastq.gz  |hot psyllid  |rep1|  \n",
    "|1.3G |May 18  2016 |8HPT_C9HBWANXX_GATCAG_L002_R2.fastq.gz  |hot psyllid  |rep1|   \n",
    "|1.2G |May 18  2016 |6HPT_C9HBWANXX_GATCAG_L006_R1.fastq.gz  |hot psyllid  |rep2|   \n",
    "|1.2G |May 18  2016 |6HPT_C9HBWANXX_GATCAG_L006_R2.fastq.gz  |hot psyllid  |rep2|   \n",
    "|1.1G |May 18  2016 |11HPT_C9HBWANXX_GGCTAC_L004_R1.fastq.gz  |hot psyllid  |rep3|  \n",
    "|1.1G |May 18  2016 |11HPT_C9HBWANXX_GGCTAC_L004_R2.fastq.gz  |hot psyllid  |rep3|  \n",
    "|1012M |May 18  2016 |2CT_C9HBWANXX_TTAGGC_L004_R1.fastq.gz  |control |rep1|  \n",
    "|1012M |May 18  2016 |2CT_C9HBWANXX_TTAGGC_L004_R2.fastq.gz  |control |rep1|  \n",
    "|1.1G |May 18  2016 |4CT_C9HBWANXX_ACAGTG_L002_R1.fastq.gz  |control |rep2 | \n",
    "|1.1G |May 18  2016 |4CT_C9HBWANXX_ACAGTG_L002_R2.fastq.gz  |control |rep2 | \n",
    "|706M |May 18  2016 |12CT_C9HBWANXX_CTTGTA_L006_R1.fastq.gz  |control |rep3|  \n",
    "|726M |May 18  2016 |12CT_C9HBWANXX_CTTGTA_L006_R2.fastq.gz  |control |rep3|"
   ]
  },
  {
   "cell_type": "code",
   "execution_count": 14,
   "metadata": {
    "collapsed": true
   },
   "outputs": [],
   "source": [
    "module load seqtk/1.2\n",
    "module load htslib/1.7"
   ]
  },
  {
   "cell_type": "code",
   "execution_count": 15,
   "metadata": {
    "collapsed": true
   },
   "outputs": [],
   "source": [
    "INDIR=/input/genomic/plant/Solanum/tuberosum/Transcriptome/CAGRF12386/AGRF_CAGRF12386_C9HBWANXX\n",
    "WKDIR=/powerplant/workspace/cflsjt/git_repos/PFRAutomatedWorkflows/RNAseq/000.TestData"
   ]
  },
  {
   "cell_type": "markdown",
   "metadata": {},
   "source": [
    "Use seqtk to extract a sub set of reads. Start with same seed in order to keep the pairing of reads for each sample set, although set to default of 11 so is likely ok. Pipe into bgzip - the latest version can be loaded via htslib, tabix can also offer this too."
   ]
  },
  {
   "cell_type": "code",
   "execution_count": 19,
   "metadata": {},
   "outputs": [
    {
     "name": "stdout",
     "output_type": "stream",
     "text": [
      "\n",
      "Usage:   seqtk sample [-2] [-s seed=11] <in.fa> <frac>|<number>\n",
      "\n",
      "Options: -s INT       RNG seed [11]\n",
      "         -2           2-pass mode: twice as slow but with much reduced memory\n",
      "\n"
     ]
    }
   ],
   "source": [
    "seqtk sample"
   ]
  },
  {
   "cell_type": "markdown",
   "metadata": {},
   "source": [
    "#### Extract from fastq \n",
    "generate for tuber RNAseq that is either exposed to psyllid with liberibacter in the gut, or non-exposed control tuber. This data set is of good quality and initial analysis indicated good mapping of reads to the reference. Only using data from a single lane here, these are all untrimmed, raw data."
   ]
  },
  {
   "cell_type": "code",
   "execution_count": 16,
   "metadata": {},
   "outputs": [
    {
     "name": "stdout",
     "output_type": "stream",
     "text": [
      "8HPT\n",
      "Job <271081> is submitted to default queue <normal>.\n",
      "Job <271082> is submitted to default queue <normal>.\n",
      "6HPT\n",
      "Job <271083> is submitted to default queue <normal>.\n",
      "Job <271084> is submitted to default queue <normal>.\n",
      "11HPT\n",
      "Job <271085> is submitted to default queue <normal>.\n",
      "Job <271086> is submitted to default queue <normal>.\n",
      "2CT\n",
      "Job <271087> is submitted to default queue <normal>.\n",
      "Job <271088> is submitted to default queue <normal>.\n",
      "4CT\n",
      "Job <271089> is submitted to default queue <normal>.\n",
      "Job <271090> is submitted to default queue <normal>.\n",
      "12CT\n",
      "Job <271091> is submitted to default queue <normal>.\n",
      "Job <271092> is submitted to default queue <normal>.\n"
     ]
    }
   ],
   "source": [
    "for F in 8HPT_C9HBWANXX_GATCAG_L002 6HPT_C9HBWANXX_GATCAG_L006 11HPT_C9HBWANXX_GGCTAC_L004 \\\n",
    "2CT_C9HBWANXX_TTAGGC_L004 4CT_C9HBWANXX_ACAGTG_L002 12CT_C9HBWANXX_CTTGTA_L006\n",
    "do\n",
    "name=$(echo $F | awk '{split($1, a, \"_\");print a[1]}')\n",
    "echo $name\n",
    "for R in 1 2\n",
    "do\n",
    "bsub -o $WKDIR/log/${name}.out -e $WKDIR/log/${name}.err -J ${name} \\\n",
    "\"seqtk sample -s100 $INDIR/${F}*R${R}.fastq.gz 10000 | bgzip -c > $WKDIR/${name}_sub_R${R}.fastq.gz\"\n",
    "done\n",
    "done"
   ]
  },
  {
   "cell_type": "code",
   "execution_count": null,
   "metadata": {
    "collapsed": true
   },
   "outputs": [],
   "source": []
  }
 ],
 "metadata": {
  "kernelspec": {
   "display_name": "Bash",
   "language": "bash",
   "name": "bash"
  },
  "language_info": {
   "codemirror_mode": "shell",
   "file_extension": ".sh",
   "mimetype": "text/x-sh",
   "name": "bash"
  }
 },
 "nbformat": 4,
 "nbformat_minor": 2
}
